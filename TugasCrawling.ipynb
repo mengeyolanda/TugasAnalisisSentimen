{
  "nbformat": 4,
  "nbformat_minor": 0,
  "metadata": {
    "colab": {
      "name": "Untitled3.ipynb",
      "provenance": []
    },
    "kernelspec": {
      "name": "python3",
      "display_name": "Python 3"
    }
  },
  "cells": [
    {
      "cell_type": "code",
      "metadata": {
        "id": "ES7qe_Mj03Tw"
      },
      "source": [
        "#import modul\n",
        "from tweepy.streaming import StreamListener\n",
        "from tweepy import OAuthHandler\n",
        "from tweepy import Stream\n",
        "from tweepy import API \n",
        "from tweepy import Cursor\n",
        "from tweepy import Stream\n",
        "from textblob import TextBlob\n",
        "import matplotlib.pyplot as plt\n",
        "import numpy as np\n",
        "import pandas as pd\n",
        "import re"
      ],
      "execution_count": 1,
      "outputs": []
    },
    {
      "cell_type": "code",
      "metadata": {
        "id": "8x_Y4EmI1K0R"
      },
      "source": [
        "# Akses key token dan consumer key token untuk menghubungkan twitter dengan jupyter lab\n",
        "ACCESS_TOKEN = \"1334421915549585408-8HocCnFw9QvWCZLXbei8QL5BrwfFi4\"\n",
        "ACCESS_TOKEN_SECRET = \"DePvAq20EWinXLyCi82cfPYIedfAamMMRXet5L40e8XWO\"\n",
        "CONSUMER_KEY = \"LrSxpWHRWjwa2h8R4SQOZJUIV\"\n",
        "CONSUMER_SECRET = \"8d3xWVMKm6LpXDIbZW930I5eiH0kb0jhtNr8pvSHkABm63qPh9\""
      ],
      "execution_count": 2,
      "outputs": []
    },
    {
      "cell_type": "code",
      "metadata": {
        "id": "cdnezQxk1ySr"
      },
      "source": [
        "# Client Twitter\n",
        "class TwitterClient():\n",
        "    def __init__(self, user_twitter=None):\n",
        "        self.auth = TwitterAuthenticator().authenticate_twitter_app()\n",
        "        self.twitter_client = API(self.auth)\n",
        "\n",
        "        self.user_twitter = user_twitter\n",
        "\n",
        "    def get_twitter_client_api(self):\n",
        "        return self.twitter_client\n",
        "\n",
        "    def get_user_timeline_tweets(self, num_tweets):\n",
        "        tweets = []\n",
        "        for tweet in Cursor(self.twitter_client.user_timeline, id=self.user_twitter).items(num_tweets):\n",
        "            tweets.append(tweet)\n",
        "        return tweets\n",
        "\n",
        "    def get_friend_list(self, num_friends):\n",
        "        friend_list = []\n",
        "        for friend in Cursor(self.twitter_client.friends, id=self.user_twitter).items(num_friends):\n",
        "            friend_list.append(friend)\n",
        "        return friend_list\n",
        "\n",
        "    def get_home_timeline_tweets(self, num_tweets):\n",
        "        home_timeline_tweets = []\n",
        "        for tweet in Cursor(self.twitter_client.home_timeline, id=self.user_twitter).items(num_tweets):\n",
        "            home_timeline_tweets.append(tweet)\n",
        "        return home_timeline_tweets"
      ],
      "execution_count": 3,
      "outputs": []
    },
    {
      "cell_type": "code",
      "metadata": {
        "id": "fAsRTMb-1-o8"
      },
      "source": [
        "class TwitterAuthenticator():\n",
        "\n",
        "    def authenticate_twitter_app(self):\n",
        "        auth = OAuthHandler(CONSUMER_KEY, CONSUMER_SECRET)\n",
        "        auth.set_access_token(ACCESS_TOKEN, ACCESS_TOKEN_SECRET)\n",
        "        return auth"
      ],
      "execution_count": 4,
      "outputs": []
    },
    {
      "cell_type": "code",
      "metadata": {
        "id": "uj-LwaAt2Eb-"
      },
      "source": [
        "#Stream Twitter\n",
        "class TwitterStreamer():\n",
        "    \"\"\"\n",
        "    Class untuk streaming dan pemrosesan tweet langsung.\n",
        "    \"\"\"\n",
        "    def __init__(self):\n",
        "        pass\n",
        "\n",
        "    def stream_tweets(self, fetched_tweets_filename, hash_tag_list):\n",
        "        #Autentifikasi twitter dan koneksi ke twitter streaming API\n",
        "        listener = StdOutListener(fetched_tweets_filename)\n",
        "        auth = OAuthHandler(CONSUMER_KEY, CONSUMER_SECRET)\n",
        "        auth.set_access_token(ACCESS_TOKEN, ACCESS_TOKEN_SECRET)\n",
        "        stream = Stream(auth, listener)\n",
        "\n",
        "        # Untuk memfilter streaming twitter dengan hastag atau kata kunci\n",
        "        stream.filter(track=hash_tag_list)"
      ],
      "execution_count": 5,
      "outputs": []
    },
    {
      "cell_type": "code",
      "metadata": {
        "id": "LjNGf84h2NlC"
      },
      "source": [
        "# Twitter Stream Listener\n",
        "import tweepy\n",
        "auth = tweepy.OAuthHandler(CONSUMER_KEY, CONSUMER_SECRET)\n",
        "auth.set_access_token(ACCESS_TOKEN, ACCESS_TOKEN_SECRET)\n",
        "class TweetAnalyzer():\n",
        "    \"\"\"\n",
        "    Fungsi untuk menganalisis tweet dan mengkategorikan konten-konten dari twitter.\n",
        "    \"\"\"\n",
        "\n",
        "    def clean_tweet(self, tweet):\n",
        "        return ' '.join(re.sub(\"(@[A-Za-z0-9]+)|([^0-9A-Za-z \\t])|(\\w+:\\/\\/\\S+)\", \" \", tweet).split())\n",
        "\n",
        "    def analyze_sentiment(self, tweet):\n",
        "        analysis = TextBlob(self.clean_tweet(tweet))\n",
        "        \n",
        "        if analysis.sentiment.polarity > 0:\n",
        "            return 1\n",
        "        elif analysis.sentiment.polarity == 0:\n",
        "            return 0\n",
        "        else:\n",
        "            return -1\n",
        "\n",
        "     #Menampilkan hasil kedalam sebuah tabel\n",
        "    def tweets_to_data_frame(self, tweets):\n",
        "        df = pd.DataFrame(data=[tweet.text for tweet in tweets], columns=[\"tweets\"])\n",
        "        df[\"No\"] = np.arange(start = 1, stop = len(df)+1)\n",
        "        df[\"Id\"] = np.array([tweet.id for tweet in tweets])\n",
        "        df[\"Date\"] = np.array([tweet.created_at for tweet in tweets])\n",
        "        df[\"Likes\"] = np.array([tweet.favorite_count for tweet in tweets])\n",
        "        df[\"Retweets\"] = np.array([tweet.retweet_count for tweet in tweets])\n",
        "        df = df[[\"No\", \"tweets\", \"Id\", \"Date\", \"Likes\", \"Retweets\"]]\n",
        "        return df\n",
        "\n",
        "\n",
        "if __name__ == '__main__':\n",
        "\n",
        "    tweet_analyzer = TweetAnalyzer()\n",
        "\n",
        "    api = tweepy.API(auth)\n",
        "    \n",
        "    #streaming data dengan menggunakan hastag RokokNaikRakyatPanik dengan data yg di stream sebanyak 100 \n",
        "    tweets = api.search(q=['#RokokNaikRakyatPanik'], count=100)\n",
        "\n",
        "    df = tweet_analyzer.tweets_to_data_frame(tweets)\n",
        "    df[\"sentiment\"] = np.array([tweet_analyzer.analyze_sentiment(tweet) for tweet in df[\"tweets\"]])"
      ],
      "execution_count": 26,
      "outputs": []
    },
    {
      "cell_type": "code",
      "metadata": {
        "colab": {
          "base_uri": "https://localhost:8080/",
          "height": 204
        },
        "id": "LnfVYsiQ2dcy",
        "outputId": "3cbfc139-1876-4df5-eaeb-333465baf8a1"
      },
      "source": [
        "# meanmpilkan dataframe hasil streaming dengan hastag RokokNaikRakyatPanik\n",
        "df.head()"
      ],
      "execution_count": 27,
      "outputs": [
        {
          "output_type": "execute_result",
          "data": {
            "text/html": [
              "<div>\n",
              "<style scoped>\n",
              "    .dataframe tbody tr th:only-of-type {\n",
              "        vertical-align: middle;\n",
              "    }\n",
              "\n",
              "    .dataframe tbody tr th {\n",
              "        vertical-align: top;\n",
              "    }\n",
              "\n",
              "    .dataframe thead th {\n",
              "        text-align: right;\n",
              "    }\n",
              "</style>\n",
              "<table border=\"1\" class=\"dataframe\">\n",
              "  <thead>\n",
              "    <tr style=\"text-align: right;\">\n",
              "      <th></th>\n",
              "      <th>No</th>\n",
              "      <th>tweets</th>\n",
              "      <th>Id</th>\n",
              "      <th>Date</th>\n",
              "      <th>Likes</th>\n",
              "      <th>Retweets</th>\n",
              "      <th>sentiment</th>\n",
              "    </tr>\n",
              "  </thead>\n",
              "  <tbody>\n",
              "    <tr>\n",
              "      <th>0</th>\n",
              "      <td>1</td>\n",
              "      <td>Bisa bisanya #RokokNaikRakyatPanik https://t.c...</td>\n",
              "      <td>1334711600150822914</td>\n",
              "      <td>2020-12-04 04:10:17</td>\n",
              "      <td>0</td>\n",
              "      <td>0</td>\n",
              "      <td>0</td>\n",
              "    </tr>\n",
              "    <tr>\n",
              "      <th>1</th>\n",
              "      <td>2</td>\n",
              "      <td>Naikin aja naikin harga rokoknya\\nKarena kami ...</td>\n",
              "      <td>1334711524854657024</td>\n",
              "      <td>2020-12-04 04:09:59</td>\n",
              "      <td>0</td>\n",
              "      <td>0</td>\n",
              "      <td>0</td>\n",
              "    </tr>\n",
              "    <tr>\n",
              "      <th>2</th>\n",
              "      <td>3</td>\n",
              "      <td>Merokok atau dirokok \\n#RokokNaikRakyatPanik h...</td>\n",
              "      <td>1334711377529749506</td>\n",
              "      <td>2020-12-04 04:09:24</td>\n",
              "      <td>0</td>\n",
              "      <td>0</td>\n",
              "      <td>0</td>\n",
              "    </tr>\n",
              "    <tr>\n",
              "      <th>3</th>\n",
              "      <td>4</td>\n",
              "      <td>apalah daya cuma manusia eceran\\n#RokokNaikRak...</td>\n",
              "      <td>1334711144502546433</td>\n",
              "      <td>2020-12-04 04:08:29</td>\n",
              "      <td>0</td>\n",
              "      <td>0</td>\n",
              "      <td>0</td>\n",
              "    </tr>\n",
              "    <tr>\n",
              "      <th>4</th>\n",
              "      <td>5</td>\n",
              "      <td>jaman I love 3000,2 batang surya  #RokokNaikRa...</td>\n",
              "      <td>1334711099996872705</td>\n",
              "      <td>2020-12-04 04:08:18</td>\n",
              "      <td>0</td>\n",
              "      <td>0</td>\n",
              "      <td>1</td>\n",
              "    </tr>\n",
              "  </tbody>\n",
              "</table>\n",
              "</div>"
            ],
            "text/plain": [
              "   No                                             tweets  ...  Retweets sentiment\n",
              "0   1  Bisa bisanya #RokokNaikRakyatPanik https://t.c...  ...         0         0\n",
              "1   2  Naikin aja naikin harga rokoknya\\nKarena kami ...  ...         0         0\n",
              "2   3  Merokok atau dirokok \\n#RokokNaikRakyatPanik h...  ...         0         0\n",
              "3   4  apalah daya cuma manusia eceran\\n#RokokNaikRak...  ...         0         0\n",
              "4   5  jaman I love 3000,2 batang surya  #RokokNaikRa...  ...         0         1\n",
              "\n",
              "[5 rows x 7 columns]"
            ]
          },
          "metadata": {
            "tags": []
          },
          "execution_count": 27
        }
      ]
    },
    {
      "cell_type": "code",
      "metadata": {
        "colab": {
          "base_uri": "https://localhost:8080/"
        },
        "id": "EusA_B582os4",
        "outputId": "74f81797-5f80-4c82-eec5-3fc37953c6ad"
      },
      "source": [
        "#menghitung jumlah sentimen positif, negatif dan netral\n",
        "positive_count = df[df.sentiment == 1].count()\n",
        "neutral_count = df[df.sentiment == 0].count()\n",
        "negative_count = df[df.sentiment == -1].count()\n",
        "print(\"Positif: \",positive_count[\"sentiment\"])\n",
        "print(\"Negatif: \",negative_count[\"sentiment\"])\n",
        "print(\"netral: \", neutral_count[\"sentiment\"])"
      ],
      "execution_count": 28,
      "outputs": [
        {
          "output_type": "stream",
          "text": [
            "Positif:  3\n",
            "Negatif:  1\n",
            "netral:  96\n"
          ],
          "name": "stdout"
        }
      ]
    },
    {
      "cell_type": "code",
      "metadata": {
        "colab": {
          "base_uri": "https://localhost:8080/",
          "height": 248
        },
        "id": "8swjc1G-2uQW",
        "outputId": "d69261f2-740e-446a-f335-c4e1f6661d3d"
      },
      "source": [
        "labels = 'Positive', 'Neutral', 'Negative'\n",
        "sizes = [positive_count[\"sentiment\"], neutral_count[\"sentiment\"], negative_count[\"sentiment\"]]\n",
        "explode = (0.1, 0.1, 0.1)\n",
        "\n",
        "fig1, ax1 = plt.subplots()\n",
        "ax1.pie(sizes, explode=explode, labels=labels, autopct='%1.1f%%',\n",
        "        shadow=True, startangle=40)\n",
        "ax1.axis('equal')\n",
        "\n",
        "plt.show()"
      ],
      "execution_count": 35,
      "outputs": [
        {
          "output_type": "display_data",
          "data": {
            "image/png": "[encoded data removed]",
            "text/plain": [
              "<Figure size 432x288 with 1 Axes>"
            ]
          },
          "metadata": {
            "tags": []
          }
        }
      ]
    }
  ]
}